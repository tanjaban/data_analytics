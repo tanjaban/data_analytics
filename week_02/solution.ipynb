{
 "cells": [
  {
   "cell_type": "code",
   "execution_count": 1,
   "metadata": {},
   "outputs": [
    {
     "ename": "NameError",
     "evalue": "name 'keys' is not defined",
     "output_type": "error",
     "traceback": [
      "\u001b[0;31m---------------------------------------------------------------------------\u001b[0m",
      "\u001b[0;31mNameError\u001b[0m                                 Traceback (most recent call last)",
      "\u001b[1;32m/workspaces/data_analytics/week_02/solution.ipynb Zelle 1\u001b[0m line \u001b[0;36m6\n\u001b[1;32m      <a href='vscode-notebook-cell://codespaces%2Bdidactic-fishstick-jpx5x5rwwgrcp9jw/workspaces/data_analytics/week_02/solution.ipynb#W0sdnNjb2RlLXJlbW90ZQ%3D%3D?line=3'>4</a>\u001b[0m df \u001b[39m=\u001b[39m pd\u001b[39m.\u001b[39mread_csv(\u001b[39m'\u001b[39m\u001b[39mBigmacPrice.csv\u001b[39m\u001b[39m'\u001b[39m),\n\u001b[1;32m      <a href='vscode-notebook-cell://codespaces%2Bdidactic-fishstick-jpx5x5rwwgrcp9jw/workspaces/data_analytics/week_02/solution.ipynb#W0sdnNjb2RlLXJlbW90ZQ%3D%3D?line=4'>5</a>\u001b[0m df2 \u001b[39m=\u001b[39m pd\u001b[39m.\u001b[39mread_excel(\u001b[39m'\u001b[39m\u001b[39mChickenData.xlsx\u001b[39m\u001b[39m'\u001b[39m),\n\u001b[0;32m----> <a href='vscode-notebook-cell://codespaces%2Bdidactic-fishstick-jpx5x5rwwgrcp9jw/workspaces/data_analytics/week_02/solution.ipynb#W0sdnNjb2RlLXJlbW90ZQ%3D%3D?line=5'>6</a>\u001b[0m \u001b[39mprint\u001b[39m(keys, values)\n",
      "\u001b[0;31mNameError\u001b[0m: name 'keys' is not defined"
     ]
    }
   ],
   "source": [
    "import pandas as pd \n",
    "import fnmatch\n",
    "\n",
    "df = pd.read_csv('BigmacPrice.csv', encoding = 'ptf-8')\n",
    "\n",
    "#print header\n",
    "print(df.head())\n",
    "\n",
    "#show data types\n",
    "print('\\n', df.types)\n",
    "\n",
    "#show type of 'df'\n",
    "print('\\n', type(df))\n",
    "\n",
    "#Create dictonary form the data frame with breed (key) and \n",
    "\n",
    "\n",
    "\n",
    "\n",
    "\n",
    "\n",
    "\n",
    "\n",
    "\n"
   ]
  }
 ],
 "metadata": {
  "kernelspec": {
   "display_name": "Python 3 (ipykernel)",
   "language": "python",
   "name": "python3"
  },
  "language_info": {
   "codemirror_mode": {
    "name": "ipython",
    "version": 3
   },
   "file_extension": ".py",
   "mimetype": "text/x-python",
   "name": "python",
   "nbconvert_exporter": "python",
   "pygments_lexer": "ipython3",
   "version": "3.10.13"
  }
 },
 "nbformat": 4,
 "nbformat_minor": 5
}
